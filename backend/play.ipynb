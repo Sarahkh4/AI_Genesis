{
 "cells": [
  {
   "cell_type": "code",
   "execution_count": 2,
   "metadata": {
    "id": "W5iDGP8FZ-XR"
   },
   "outputs": [],
   "source": [
    "# ✅ Set Gemini API key securely (Google Colab specific)\n",
    "import os\n",
    "\n",
    "from dotenv import load_dotenv\n",
    "\n",
    "load_dotenv()\n",
    "gemini_api_key = os.getenv(\"GOOGLE_API_KEY\")\n",
    "\n",
    "from langchain_google_genai import ChatGoogleGenerativeAI\n",
    "\n",
    "from app.prompts import COURSE_PLANNER\n",
    "from app.schema import LearningPlan"
   ]
  },
  {
   "cell_type": "code",
   "execution_count": 6,
   "metadata": {
    "id": "Oshp6XfxaDvi"
   },
   "outputs": [
    {
     "name": "stderr",
     "output_type": "stream",
     "text": [
      "Key '$defs' is not supported in schema, ignoring\n",
      "Key 'title' is not supported in schema, ignoring\n"
     ]
    },
    {
     "name": "stdout",
     "output_type": "stream",
     "text": [
      "{'messages': [AIMessage(content='', additional_kwargs={'function_call': {'name': 'LearningPlan', 'arguments': '{\"topic\": \"Generative AI for a 14-year-old\", \"weekly_plans\": [{\"activities\": [{\"frequency\": \"Daily\", \"description\": \"Read introductory articles on Generative AI.\"}, {\"frequency\": \"3 times a week\", \"description\": \"Watch videos explaining what Generative AI is and how it works.\"}, {\"frequency\": \"2 times a week\", \"description\": \"Explore different types of Generative AI models (GANs, VAEs, Transformers).\"}], \"focus\": \"Understanding the Basics of Generative AI\", \"week_number\": 1.0, \"checkpoint\": \"Write a short paragraph explaining what Generative AI is in your own words.\", \"resources\": [{\"type\": \"documentation\", \"name\": \"What is Generative AI?\", \"url\": \"https://www.ibm.com/topics/generative-ai\"}, {\"url\": \"https://www.youtube.com/watch?v=69FGwAI1Jcs\", \"name\": \"Generative AI, Explained\", \"type\": \"other\"}]}, {\"activities\": [{\"frequency\": \"Daily\", \"description\": \"Experiment with online Generative AI tools for image generation.\"}, {\"frequency\": \"3 times a week\", \"description\": \"Try text-based Generative AI tools for writing stories or poems.\"}, {\"frequency\": \"2 times a week\", \"description\": \"Research the ethical considerations surrounding Generative AI.\"}], \"focus\": \"Hands-on Experience with Generative AI Tools\", \"week_number\": 2.0, \"checkpoint\": \"Create a piece of art or writing using a Generative AI tool and reflect on the experience.\", \"resources\": [{\"url\": \"https://creator.nightcafe.studio/\", \"name\": \"NightCafe Creator\", \"type\": \"app\"}, {\"url\": \"https://transformer.huggingface.co/\", \"name\": \"Talk to Transformer\", \"type\": \"other\"}, {\"url\": \"https://www.marktechpost.com/2023/01/28/ethics-of-artificial-intelligence/\", \"name\": \"AI and Ethics\", \"type\": \"documentation\"}]}, {\"activities\": [{\"frequency\": \"2 times a week\", \"description\": \"Learn about the history of Generative AI and its evolution.\"}, {\"frequency\": \"3 times a week\", \"description\": \"Investigate real-world applications of Generative AI in different industries.\"}, {\"frequency\": \"Daily\", \"description\": \"Discuss the potential future impact of Generative AI on society.\"}], \"focus\": \"Exploring Applications and Impact of Generative AI\", \"week_number\": 3.0, \"checkpoint\": \"Present a short report on a specific application of Generative AI and its impact.\", \"resources\": [{\"type\": \"documentation\", \"name\": \"A Brief History of Generative AI\", \"url\": \"https://www.assemblyai.com/blog/a-brief-history-of-generative-ai/\"}, {\"type\": \"other\", \"name\": \"Applications of Generative AI\", \"url\": \"https://www.nvidia.com/en-us/deep-learning-ai/solutions/generative-ai/\"}]}, {\"resources\": [{\"type\": \"documentation\", \"name\": \"Limitations of Generative AI\", \"url\": \"https://bdtechtalks.com/2023/03/29/limitations-generative-ai/\"}], \"focus\": \"Critical Thinking and Project Development with Generative AI\", \"week_number\": 4.0, \"checkpoint\": \"Develop a project proposal outlining your Generative AI project and its potential impact.\", \"activities\": [{\"frequency\": \"2 times a week\", \"description\": \"Identify the limitations and challenges of current Generative AI models.\"}, {\"frequency\": \"3 times a week\", \"description\": \"Brainstorm potential solutions to address these limitations.\"}, {\"frequency\": \"Daily\", \"description\": \"Design a project that utilizes Generative AI to solve a problem or create something new.\"}]}], \"duration_weeks\": 4.0}'}}, response_metadata={'prompt_feedback': {'block_reason': 0, 'safety_ratings': []}, 'finish_reason': 'STOP', 'model_name': 'gemini-2.0-flash', 'safety_ratings': []}, id='run-0aac8dac-1c27-4476-8b5e-46e6d6e3d7b7-0', tool_calls=[{'name': 'LearningPlan', 'args': {'topic': 'Generative AI for a 14-year-old', 'weekly_plans': [{'activities': [{'frequency': 'Daily', 'description': 'Read introductory articles on Generative AI.'}, {'frequency': '3 times a week', 'description': 'Watch videos explaining what Generative AI is and how it works.'}, {'frequency': '2 times a week', 'description': 'Explore different types of Generative AI models (GANs, VAEs, Transformers).'}], 'focus': 'Understanding the Basics of Generative AI', 'week_number': 1.0, 'checkpoint': 'Write a short paragraph explaining what Generative AI is in your own words.', 'resources': [{'type': 'documentation', 'name': 'What is Generative AI?', 'url': 'https://www.ibm.com/topics/generative-ai'}, {'url': 'https://www.youtube.com/watch?v=69FGwAI1Jcs', 'name': 'Generative AI, Explained', 'type': 'other'}]}, {'activities': [{'frequency': 'Daily', 'description': 'Experiment with online Generative AI tools for image generation.'}, {'frequency': '3 times a week', 'description': 'Try text-based Generative AI tools for writing stories or poems.'}, {'frequency': '2 times a week', 'description': 'Research the ethical considerations surrounding Generative AI.'}], 'focus': 'Hands-on Experience with Generative AI Tools', 'week_number': 2.0, 'checkpoint': 'Create a piece of art or writing using a Generative AI tool and reflect on the experience.', 'resources': [{'url': 'https://creator.nightcafe.studio/', 'name': 'NightCafe Creator', 'type': 'app'}, {'url': 'https://transformer.huggingface.co/', 'name': 'Talk to Transformer', 'type': 'other'}, {'url': 'https://www.marktechpost.com/2023/01/28/ethics-of-artificial-intelligence/', 'name': 'AI and Ethics', 'type': 'documentation'}]}, {'activities': [{'frequency': '2 times a week', 'description': 'Learn about the history of Generative AI and its evolution.'}, {'frequency': '3 times a week', 'description': 'Investigate real-world applications of Generative AI in different industries.'}, {'frequency': 'Daily', 'description': 'Discuss the potential future impact of Generative AI on society.'}], 'focus': 'Exploring Applications and Impact of Generative AI', 'week_number': 3.0, 'checkpoint': 'Present a short report on a specific application of Generative AI and its impact.', 'resources': [{'type': 'documentation', 'name': 'A Brief History of Generative AI', 'url': 'https://www.assemblyai.com/blog/a-brief-history-of-generative-ai/'}, {'type': 'other', 'name': 'Applications of Generative AI', 'url': 'https://www.nvidia.com/en-us/deep-learning-ai/solutions/generative-ai/'}]}, {'resources': [{'type': 'documentation', 'name': 'Limitations of Generative AI', 'url': 'https://bdtechtalks.com/2023/03/29/limitations-generative-ai/'}], 'focus': 'Critical Thinking and Project Development with Generative AI', 'week_number': 4.0, 'checkpoint': 'Develop a project proposal outlining your Generative AI project and its potential impact.', 'activities': [{'frequency': '2 times a week', 'description': 'Identify the limitations and challenges of current Generative AI models.'}, {'frequency': '3 times a week', 'description': 'Brainstorm potential solutions to address these limitations.'}, {'frequency': 'Daily', 'description': 'Design a project that utilizes Generative AI to solve a problem or create something new.'}]}], 'duration_weeks': 4.0}, 'id': '2dad621d-ad44-4f51-a526-b4253fe2b66f', 'type': 'tool_call'}], usage_metadata={'input_tokens': 335, 'output_tokens': 588, 'total_tokens': 923, 'input_token_details': {'cache_read': 0}})], 'responses': [LearningPlan(topic='Generative AI for a 14-year-old', duration_weeks=4, weekly_plans=[WeekPlan(week_number=1, focus='Understanding the Basics of Generative AI', activities=[Activity(description='Read introductory articles on Generative AI.', frequency='Daily'), Activity(description='Watch videos explaining what Generative AI is and how it works.', frequency='3 times a week'), Activity(description='Explore different types of Generative AI models (GANs, VAEs, Transformers).', frequency='2 times a week')], resources=[Resource(name='What is Generative AI?', type='documentation', url='https://www.ibm.com/topics/generative-ai'), Resource(name='Generative AI, Explained', type='other', url='https://www.youtube.com/watch?v=69FGwAI1Jcs')], checkpoint='Write a short paragraph explaining what Generative AI is in your own words.'), WeekPlan(week_number=2, focus='Hands-on Experience with Generative AI Tools', activities=[Activity(description='Experiment with online Generative AI tools for image generation.', frequency='Daily'), Activity(description='Try text-based Generative AI tools for writing stories or poems.', frequency='3 times a week'), Activity(description='Research the ethical considerations surrounding Generative AI.', frequency='2 times a week')], resources=[Resource(name='NightCafe Creator', type='app', url='https://creator.nightcafe.studio/'), Resource(name='Talk to Transformer', type='other', url='https://transformer.huggingface.co/'), Resource(name='AI and Ethics', type='documentation', url='https://www.marktechpost.com/2023/01/28/ethics-of-artificial-intelligence/')], checkpoint='Create a piece of art or writing using a Generative AI tool and reflect on the experience.'), WeekPlan(week_number=3, focus='Exploring Applications and Impact of Generative AI', activities=[Activity(description='Learn about the history of Generative AI and its evolution.', frequency='2 times a week'), Activity(description='Investigate real-world applications of Generative AI in different industries.', frequency='3 times a week'), Activity(description='Discuss the potential future impact of Generative AI on society.', frequency='Daily')], resources=[Resource(name='A Brief History of Generative AI', type='documentation', url='https://www.assemblyai.com/blog/a-brief-history-of-generative-ai/'), Resource(name='Applications of Generative AI', type='other', url='https://www.nvidia.com/en-us/deep-learning-ai/solutions/generative-ai/')], checkpoint='Present a short report on a specific application of Generative AI and its impact.'), WeekPlan(week_number=4, focus='Critical Thinking and Project Development with Generative AI', activities=[Activity(description='Identify the limitations and challenges of current Generative AI models.', frequency='2 times a week'), Activity(description='Brainstorm potential solutions to address these limitations.', frequency='3 times a week'), Activity(description='Design a project that utilizes Generative AI to solve a problem or create something new.', frequency='Daily')], resources=[Resource(name='Limitations of Generative AI', type='documentation', url='https://bdtechtalks.com/2023/03/29/limitations-generative-ai/')], checkpoint='Develop a project proposal outlining your Generative AI project and its potential impact.')])], 'response_metadata': [{'id': '2dad621d-ad44-4f51-a526-b4253fe2b66f'}], 'attempts': 1}\n"
     ]
    }
   ],
   "source": [
    "from trustcall import create_extractor\n",
    "\n",
    "llm = ChatGoogleGenerativeAI(model=\"gemini-2.0-flash\", temperature=0.5, max_retries=2, api_key=gemini_api_key)\n",
    "# llm = llm.with_structured_output(LearningPlan)\n",
    "\n",
    "\n",
    "llm = create_extractor(\n",
    "    llm,\n",
    "    tools=[LearningPlan],\n",
    "    tool_choice=\"any\",\n",
    "    enable_inserts=True,\n",
    ")\n",
    "\n",
    "\n",
    "response = llm.invoke([(\"system\", COURSE_PLANNER), (\"user\", \"generative AI & its advances (14 yr old)\")])\n",
    "\n",
    "print(response)"
   ]
  },
  {
   "cell_type": "code",
   "execution_count": null,
   "metadata": {
    "colab": {
     "base_uri": "https://localhost:8080/"
    },
    "id": "RN4DEOThaIDA",
    "outputId": "ddc3dd1f-0a8e-4251-d276-fd6bc0fe289e"
   },
   "outputs": [],
   "source": [
    "# ✅ 🔧 MISSING FUNCTION: generate_learning_path()\n",
    "def generate_learning_path(topic):\n",
    "    prompt = prompt_template.format(topic=topic)\n",
    "    try:\n",
    "        response = llm.invoke(prompt)\n",
    "        # Extract content properly from Gemini response\n",
    "        return response.content if hasattr(response, \"content\") else str(response)\n",
    "    except Exception as e:\n",
    "        return f\"Error generating learning path: {e}\"\n",
    "\n",
    "\n",
    "# ✅ Optional test to see if Gemini works (can comment out later)\n",
    "print(generate_learning_path(\"Python\"))"
   ]
  },
  {
   "cell_type": "code",
   "execution_count": null,
   "metadata": {
    "colab": {
     "base_uri": "https://localhost:8080/",
     "height": 831
    },
    "id": "4AVi47MlaLdC",
    "outputId": "609f9450-8946-4893-d49b-2e1c9d3a27ab"
   },
   "outputs": [],
   "source": [
    "# ✅ Gradio interface\n",
    "import gradio as gr\n",
    "\n",
    "\n",
    "def chatbot(topic):\n",
    "    if not topic.strip():\n",
    "        return \"Please enter a topic.\"\n",
    "    return generate_learning_path(topic)\n",
    "\n",
    "\n",
    "def download_learning_path(topic):\n",
    "    plan = generate_learning_path(topic)\n",
    "    filename = f\"{topic}_learning_path.txt\"\n",
    "    with open(filename, \"w\") as f:\n",
    "        f.write(plan)\n",
    "    return filename\n",
    "\n",
    "\n",
    "with gr.Blocks() as demo:\n",
    "    gr.Markdown(\"## 📘 Gemini AI Learning Path Generator\")\n",
    "\n",
    "    with gr.Row():\n",
    "        topic_input = gr.Textbox(label=\"Enter a Topic\")\n",
    "        generate_btn = gr.Button(\"Generate Learning Path\")\n",
    "\n",
    "    output = gr.Textbox(label=\"Learning Path\", lines=20)\n",
    "    download_btn = gr.Button(\"Download\")\n",
    "\n",
    "    generate_btn.click(chatbot, inputs=topic_input, outputs=output)\n",
    "    download_btn.click(download_learning_path, inputs=topic_input, outputs=None)\n",
    "\n",
    "demo.launch(share=True, debug=True)"
   ]
  }
 ],
 "metadata": {
  "colab": {
   "authorship_tag": "ABX9TyMHEmJLl26zpsOgVomrm9tK",
   "include_colab_link": true,
   "provenance": []
  },
  "kernelspec": {
   "display_name": ".venv",
   "language": "python",
   "name": "python3"
  },
  "language_info": {
   "codemirror_mode": {
    "name": "ipython",
    "version": 3
   },
   "file_extension": ".py",
   "mimetype": "text/x-python",
   "name": "python",
   "nbconvert_exporter": "python",
   "pygments_lexer": "ipython3",
   "version": "3.12.6"
  }
 },
 "nbformat": 4,
 "nbformat_minor": 0
}
